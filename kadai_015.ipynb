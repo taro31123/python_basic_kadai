{
  "nbformat": 4,
  "nbformat_minor": 0,
  "metadata": {
    "colab": {
      "provenance": []
    },
    "kernelspec": {
      "name": "python3",
      "display_name": "Python 3"
    },
    "language_info": {
      "name": "python"
    }
  },
  "cells": [
    {
      "cell_type": "code",
      "execution_count": 13,
      "metadata": {
        "colab": {
          "base_uri": "https://localhost:8080/"
        },
        "id": "EFVkqv3WkMzK",
        "outputId": "a807f61d-f163-428e-8002-aa4102c8fc85"
      },
      "outputs": [
        {
          "output_type": "stream",
          "name": "stdout",
          "text": [
            "名前: 侍太郎, 年齢: 25\n"
          ]
        }
      ],
      "source": [
        "#クラスを定義\n",
        "class Human:\n",
        "  #要素を定義\n",
        "  def __init__(self, name, age):\n",
        "     self.name = name\n",
        "     self.age = age\n",
        "  #メソッドを定義\n",
        "  def printinfo(self):\n",
        "    print(f\"名前: {self.name}, 年齢: {self.age}\")\n",
        "\n",
        "#インスタンス化\n",
        "output = Human(\"侍太郎\", 25)\n",
        "output.printinfo()"
      ]
    }
  ]
}