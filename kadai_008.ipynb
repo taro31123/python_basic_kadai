{
  "nbformat": 4,
  "nbformat_minor": 0,
  "metadata": {
    "colab": {
      "provenance": []
    },
    "kernelspec": {
      "name": "python3",
      "display_name": "Python 3"
    },
    "language_info": {
      "name": "python"
    }
  },
  "cells": [
    {
      "cell_type": "code",
      "execution_count": 84,
      "metadata": {
        "colab": {
          "base_uri": "https://localhost:8080/"
        },
        "id": "4LVLJBv2_lT5",
        "outputId": "0635b57f-a545-4445-ae82-63000715c1a8"
      },
      "outputs": [
        {
          "output_type": "stream",
          "name": "stdout",
          "text": [
            "Fizz\n"
          ]
        }
      ],
      "source": [
        "#ランダムに正の整数varを出力する\n",
        "import random\n",
        "var = random.randint(1, 10*10)\n",
        "\n",
        "#変数varが、3の倍数と5の倍数の両方に該当する場合は「FizzBuzz」を出力\n",
        "if var % 3 == 0 and var % 5 == 0:\n",
        "    print(\"FizzBuzz\")\n",
        "#変数varが、3の倍数の場合は「Fizz」を出力\n",
        "elif var % 3 == 0:\n",
        "    print(\"Fizz\")\n",
        "#変数varが、5の倍数の場合は「Buzz」を出力\n",
        "elif var % 5 == 0:\n",
        "    print(\"Buzz\")\n",
        "#上記のどの場合にも該当しない場合は、変数varの値を出力\n",
        "else:\n",
        "  print(var)"
      ]
    }
  ]
}