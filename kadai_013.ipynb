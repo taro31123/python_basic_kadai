{
  "nbformat": 4,
  "nbformat_minor": 0,
  "metadata": {
    "colab": {
      "provenance": []
    },
    "kernelspec": {
      "name": "python3",
      "display_name": "Python 3"
    },
    "language_info": {
      "name": "python"
    }
  },
  "cells": [
    {
      "cell_type": "code",
      "execution_count": 12,
      "metadata": {
        "colab": {
          "base_uri": "https://localhost:8080/"
        },
        "id": "64aS6odNUMwI",
        "outputId": "b6b3c180-832a-418a-8ce2-16e39bba6337"
      },
      "outputs": [
        {
          "output_type": "stream",
          "name": "stdout",
          "text": [
            "110.00000000000001\n"
          ]
        }
      ],
      "source": [
        "# 消費税を加えた結果を返す関数\n",
        "def price(goods, tax):\n",
        "  return goods * (1 + tax)\n",
        "\n",
        "#消費税を10％として出力\n",
        "print(price(100, 0.1))"
      ]
    }
  ]
}