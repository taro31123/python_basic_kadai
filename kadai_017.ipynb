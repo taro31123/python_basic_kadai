{
  "nbformat": 4,
  "nbformat_minor": 0,
  "metadata": {
    "colab": {
      "provenance": []
    },
    "kernelspec": {
      "name": "python3",
      "display_name": "Python 3"
    },
    "language_info": {
      "name": "python"
    }
  },
  "cells": [
    {
      "cell_type": "code",
      "execution_count": 34,
      "metadata": {
        "colab": {
          "base_uri": "https://localhost:8080/"
        },
        "id": "UFo3vd6HJ-dU",
        "outputId": "2f7ecf5c-18d8-40c5-a4fd-830b01aedb1f"
      },
      "outputs": [
        {
          "output_type": "stream",
          "name": "stdout",
          "text": [
            "侍太郎は大人です\n",
            "侍二郎は大人です\n",
            "侍三郎は大人です\n",
            "侍四郎は大人ではありません\n",
            "侍五郎は大人ではありません\n",
            "侍花子は大人です\n"
          ]
        }
      ],
      "source": [
        "# 名前(name)と年齢(age)の属性を持つHumanクラスを作成\n",
        "class Human:\n",
        "  def __init__(self, name, age):\n",
        "    self.name = name\n",
        "    self.age = age\n",
        "# 標準出力(print)するcheck_adultメソッドを追加\n",
        "  def check_adult(self):\n",
        "    if int(self.age) >= 20:\n",
        "      print(f\"{self.name}は大人です\")\n",
        "    else:\n",
        "      print(f\"{self.name}は大人ではありません\")\n",
        "# HUmanクラスインスタンスを複数生成してリストに追加\n",
        "people = [\n",
        "    Human(\"侍太郎\", \"31\"),\n",
        "    Human(\"侍二郎\", \"28\"),\n",
        "    Human(\"侍三郎\", \"20\"),\n",
        "    Human(\"侍四郎\", \"16\"),\n",
        "    Human(\"侍五郎\", \"10\"),\n",
        "    Human(\"侍花子\", \"25\"),\n",
        "]\n",
        "# 要素の分だけメソッドの呼び出し\n",
        "for i in people:\n",
        "  i.check_adult()"
      ]
    }
  ]
}