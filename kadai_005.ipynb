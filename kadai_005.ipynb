{
  "nbformat": 4,
  "nbformat_minor": 0,
  "metadata": {
    "colab": {
      "provenance": []
    },
    "kernelspec": {
      "name": "python3",
      "display_name": "Python 3"
    },
    "language_info": {
      "name": "python"
    }
  },
  "cells": [
    {
      "cell_type": "code",
      "execution_count": 6,
      "metadata": {
        "colab": {
          "base_uri": "https://localhost:8080/"
        },
        "id": "d839Q5GfuHYh",
        "outputId": "2eae5df6-d923-4d77-9f00-10dcdbc55fba"
      },
      "outputs": [
        {
          "output_type": "stream",
          "name": "stdout",
          "text": [
            "出力結果は75.0cm²です\n"
          ]
        }
      ],
      "source": [
        "# 台形の面積を求める\n",
        "top_side = 10\n",
        "bottom_side = 20\n",
        "height = 5\n",
        "area = ((top_side + bottom_side) * height / 2)\n",
        "\n",
        "# 数値と文字列を組み合わせて表示する\n",
        "print(f\"出力結果は{area}cm²です\")"
      ]
    }
  ]
}